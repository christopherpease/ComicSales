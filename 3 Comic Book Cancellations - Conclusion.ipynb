{
 "cells": [
  {
   "cell_type": "markdown",
   "metadata": {},
   "source": [
    "# Comic Book Cancellations Part III: Summary and Conclusion\n",
    "\n",
    "# 1. Introduction\n",
    "\n",
    "While some Marvel comic books run for decades, most series go through cycles. For example, [Charles Soule's *She-Hulk* (2014)](https://www.cbr.com/charles-soule-investigates-she-hulks-blue-file/) was a colorful and quirky crime serial that got cancelled on its 12th issue. However, that was not the end of the titular character. A year after that series' cancellation, she reappeared as the lead in [Mario Tamaki's *Hulk* (2016)](https://www.cbr.com/hulk-1-gives-marvel-an-unstable-dangerous-jennifer-walters/) but the tone of that book was completely different. The new title was introspective and focused on her pain and depression following the murder of her cousin. While these legacy characters may eventually go on to lead another title after a cancellation, the tone, style, and genre of their stories often change with the new creative team.\n",
    "\n",
    "So what causes so many of my favorite stories to get cancelled seemingly ahead of their time? Some books end at the author's request because the story has reached its conclusion. When *Young Avengers* (2013) was cancelled, the author Kieron Gillen [stated](http://kierongillen.tumblr.com/post/66995678192/young-avengers-the-end-of-the-season), \"When the time came around and Marvel asked if we wanted to do more issues, [the artist] Jamie and I decided we’d actually made our statement, and should leave the stage.\" However, most Marvel comics are written as serials without the intention of bringing the story to a final conclusion. Instead, as Marvel Executive Editor Tom Brevoort [stated](https://twitter.com/TomBrevoort/status/945861802813984768) in 2017 amidst a string of cancellations, \"We go through this cycle every year where weaker-selling titles get pruned\".\n",
    "\n",
    "So are books that get cancelled actually weaker selling? And if so, what criteria determines cancellation? Of [that](https://www.dailydot.com/parsec/marvel-comics-sales-slump-diversity/) [string](https://www.cbr.com/marvel-cancels-generation-x-gwenpool-more/) [of](https://www.cbr.com/marvel-comics-cancels-iceman-luke-cage/) [cancellations](https://www.cbr.com/marvel-comics-cancels-she-hulk/) in early 2017, all of the series had female, queer, or colored leads. This naturally poses the question whether the cancellations are the result of low sales or whether Marvel was caving to [retailers](https://www.cbr.com/marvel-sales-diversity/) who felt like \"people didn't want any more diversity\". \n",
    "\n",
    "To answer these questions, I'll use machine learning in order to develop a cancellation criteria based on comic book sales data. The first two parts of this series went through this process step by step. The [first part](./1 Comic Book Cancellations - Web Scrapping.ipynb) web scrapped publically available comic book sales data and stored it in a database. The [second part](./2 Comic Book Cancellations - Machine Learning.ipynb) parsed through that data and implemented machine learning algorithms to determine what titles got cancelled. This last part summarizes the entire process and draws conclusions from my findings."
   ]
  },
  {
   "cell_type": "markdown",
   "metadata": {},
   "source": [
    "# 2. Data\n",
    "\n",
    "## 2.1 Sourcing Sales Data\n",
    "\n",
    "American comic books (like Marvel or DC) have three main sales outlets: individual issues which are sold montly through comic book stores, collected \"trade paperback\" editions that are released about twice a year and sold through comic book stores and conventional booksellers, and digital comics which are sold through sites like [Comixology](https://www.comixology.com/).\n",
    "\n",
    "My analysis will only specifically look at individual issue sales of Marvel comics as released by the main comic book store distributor [Diamond Comic Distributors](https://www.diamondcomics.com/) because the majority of Diamond's sales are through [individual issues](https://www.cnbc.com/2016/06/05/comic-books-buck-trend-as-print-and-digital-sales-flourish.html). This data is freely available from [Comichron](http://www.comichron.com/monthlycomicssales.html) for every month since 1998. It is [estimated](http://www.comicsbeat.com/a-quick-word-about-sales-estimates-before-we-run-the-distribution-charts/) that Diamond's numbers are a fairly accurate representation of total sales (~10%) for individiual issues but are less accurate for collected editions (~25%), becuase a sizable number of those are sold through bookstores not sourced through Diamond.\n",
    "\n",
    "## 2.2 Cancellation Classification\n",
    "\n",
    "Classifying distinct comic book runs is nontrivial. Titles are not always consistent and may change to reflect the story. Even the numbering system may have odd jumps and changes. Often a series may start with a \\#1 and increment sequentially for a couple of months, only to later revert to a legacy numbering system. Some titles may also have an extended break before a new creative team restarts the series, whereas long-running titles may change creative teams and make major story changes without any interruption in the numbering.\n",
    "\n",
    "For my analysis, I considered a distinct run to start whenever there was a \\#1 issue, and that each run could be distinguished from each other by its title and starting year. \n",
    "\n",
    "At the same time, not every book that ends is cancelled. Fig. 1 shows that the majority of titles end after one or only a few issues, too short of a time to receive feedback from their sales. As such, they must have always been planned to be that length. Similarly, long running titles may have a change in creative team to create fresh jumping on points rather than being cancelled for sales.\n",
    "\n",
    "![Max Issue Histogram](/Figures/Max Issue Histogram.png)<p />\n",
    "**Fig. 1** Based on ending length, Marvel comics appear to fall into several categories: (1) one-shots, (2) events and mini-series that run less than 6 issues, (3) ongoing titles that are immediately cancelled around 12 issues, and (4) ongoing titles that continue past 12 issues.\n",
    "\n",
    "I have no way of determining how each series ended without manually going through each title. However, it appears in Fig. 1 that the 12th month is a common dropping point for new series. In order to focus on books that end due to cancellation, I will specifically look at what factors cause a book to be cancelled or kept past this 12th month threshold."
   ]
  },
  {
   "cell_type": "markdown",
   "metadata": {},
   "source": [
    "# 3. Machine Learning\n",
    "\n",
    "Based on the analysis of multiple classifiers, decision trees were decided to be used to determine the cancellation criteria because they were easier to interpret and give comparable accuracy scores (~75%) as other classifiers.\n",
    "\n",
    "From my analysis, I determined that the main factor determining whether a title gets cancelled is whether it has gross sales of around \\$60,000 per issue as seen in Fig. 2."
   ]
  },
  {
   "cell_type": "markdown",
   "metadata": {},
   "source": [
    "![Cancellation Criteria](/Figures\\Decision Tree.png)<p/>\n",
    "**Fig. 2** The 1st month's units sales and 12th month's gross sales were found to be the two most important features determining cancellation. The light background color shows the prediction of the classifier, whereas individual points refer to individual series. Blue is for titles that were kept and red is for cancelled titles."
   ]
  },
  {
   "cell_type": "markdown",
   "metadata": {},
   "source": [
    "$60,000 per issue may seem like a lot of money. However, most of the [money in comics](http://www.jimzub.com/the-reality-of-mainstream-creator-owned-comics/) goes to the comic book stores (~50%), distributors (~15%), and printers (~25%). Only about 10% of the gross funds actually end up paying the creative team which includes the author, artist, colorer, letterer, cover artists and the editors assigned to it as well as overhead. As such, it would not be surprising if that number is near Marvel's cost for the comic. "
   ]
  },
  {
   "cell_type": "markdown",
   "metadata": {},
   "source": [
    "## 3.1 Kid's Comics\n",
    "\n",
    "One surprising conclusion from my classifier is that comics that initially ship few units and have low gross sales a year later often are not cancelled. Simply by the numbers, these would be the series you would most expect to be cancelled.\n",
    "\n",
    "Most of these low selling books that stick around are geared towards younger readers (either teens or children) as seen in Fig. 3. Considering that these series haven't been cancelled, their readers must be more likely to get their books in collections or digitally rather than having their parents take them to the comic book store monthly."
   ]
  },
  {
   "cell_type": "markdown",
   "metadata": {},
   "source": [
    "![Kids Comics](/Figures\\Kids Comics.png) <p/>\n",
    "**Fig. 3** Plot of cancelled and kept titles over the two most important features. Select books targeting children and teens are emphasized with large stars. Books were primarily labelled as for kids or teens if they had select keywords in their title (i.e. \"Marvel Adventures\", \"Ultimate\", \"Young\"). Many of the titles with the lowest sales that have not been cancelled target kids or teens."
   ]
  },
  {
   "cell_type": "markdown",
   "metadata": {},
   "source": [
    "One such comic is *Moon Girl and Devil Dinosaur* which features a 10-year-old girl and her pet T-Rex. It has been around for years despite low monthly sales at comic book stores. Instead, the book is commonly attributed to having high sales at Scholastic Book Fairs, so much so that is will soon be getting a [TV adaption](https://www.dailydot.com/parsec/moon-girl-devil-dinosaur-tv-series/). "
   ]
  },
  {
   "cell_type": "markdown",
   "metadata": {},
   "source": [
    "## 3.2 Diversity and Sales\n",
    "\n",
    "Marel has made a large push towards introducing new characters with greater diversity than many of its established legacy characters. Some of these titles have continued for a long time (30+ issues) and have been rather successful with characters going on to be featured in [movies](http://www.intothespiderverse.movie/), [animated shorts](https://www.hollywoodreporter.com/heat-vision/marvel-launching-animated-property-marvel-rising-2018-1065463), or to have [television adaptions](https://www.dailydot.com/parsec/moon-girl-devil-dinosaur-tv-series/) in the works. Meanwhile in 2017, a large number of new titles featuring diverse leads got cancelled. The sales information for both of these groups of comics are compared in Fig. 4."
   ]
  },
  {
   "cell_type": "markdown",
   "metadata": {},
   "source": [
    "![Diversity Comics](/Figures\\Diversity Comics.png)<p/>\n",
    "**Fig. 4** Plot of cancelled and kept titles. The large stars highlight the series that were cancelled in early 2017 and a select group of long-lasting comics with diverse leads."
   ]
  },
  {
   "cell_type": "markdown",
   "metadata": {},
   "source": [
    "From Fig. 4, we can tell that many of the 2017 cancelled titles had sales in the region where books are expected to be cancelled so it is no surprise they were discontinued. However, what is surprising is that a number of the \"successful\" diversity comics have sales numbers in the same range. Many of these successful titles with low sales (as well as some of the cancelled ones) are marketed towards kids and teens, an audience that we already saw is less likely to pick up monthly issues and presumably more likely to pick up collected editions or digital copies.\n",
    "\n",
    "However, it may also be true that some \"diversity\" titles appeal to a different audience than regular comic book readers who routinely visit comic book stores. For example, one of the cancelled titles was *Iceman* which finished prematurely after 11 issues. The story is highly atypical for Marvel comics focusing on a gay superhero who was coming out to his friends and family in his late 20s. However, after cancellation it was later renewed with the same creative team. The [author attributed](https://www.marvel.com/articles/comics/back-by-popular-demand-iceman-returns-this-september) a glowing [New York Times review](https://www.nytimes.com/2018/02/19/books/review/marvel-x-men-iceman-gay.html) of the collected edition as when \"people took notice\" of the series, and presumably that collected edition went on to sell better than expected. \n",
    "\n",
    "Even if titles targeting children or diverse leads make up for their few monthly units sold with sales in other formats, if those other formats aren't being sold at comic book stores, this can create tension between Marvel and its retailers. As we've seen, even some of Marvel's more successful titles with diverse leads don't sell very well monthly. This tension is likely what caused Marvel and its retailers to have a [scuffle about diversity](https://www.newsarama.com/36750-retailers-become-heated-over-marvel-variants-diversity-in-closed-doors-nycc-panel.html) at the 2017 New York Comic Con where retailers were, \"continuing to vociferously express their frustration and anger over these issues\" even after a panel ended. "
   ]
  },
  {
   "cell_type": "markdown",
   "metadata": {},
   "source": [
    "# 4. Future Work\n",
    "\n",
    "To better understand why titles targetting kids, teens, and featuring diverse leads are often kept despite low sells, I would need additional sales data for collected editions and for digital comics. This would help improve the accuracy of the classifier and potentially allow it to distinguish between the successful and cancelled diversity titles. The easiest way to do this would be to include Diamond's sales information for collected editions. \n",
    "\n",
    "However, assessing the tension between Marvel and retailers about diversity in comics would require knowing where readers purchase those titles. Because of their low monthly sales, many of these titles rely on selling more collected editions which are available at comic book stores as well as other outlets (such as bookstores, online stores like Amazon, or via  digital comics such as through [Comixology](https://www.comixology.com/) or [Marvel Unlimited](https://www.marvel.com/comics/unlimited)). It's likely that these readers are buying more from sources other than comic book stores. For example, racial minorites in the US are [generally younger](http://www.pewresearch.org/fact-tank/2016/07/07/biggest-share-of-whites-in-u-s-are-boomers-but-for-minority-groups-its-millennials-or-younger/) and younger people are more likely to [shop online](https://www.statista.com/statistics/242512/online-retail-visitors-in-the-us-by-age-group/). Additionally, these titles may be bringing in new readers who do not have a history of regularly patronizing comic book stores. "
   ]
  }
 ],
 "metadata": {
  "kernelspec": {
   "display_name": "Python 3",
   "language": "python",
   "name": "python3"
  },
  "language_info": {
   "codemirror_mode": {
    "name": "ipython",
    "version": 3
   },
   "file_extension": ".py",
   "mimetype": "text/x-python",
   "name": "python",
   "nbconvert_exporter": "python",
   "pygments_lexer": "ipython3",
   "version": "3.6.6"
  }
 },
 "nbformat": 4,
 "nbformat_minor": 2
}
