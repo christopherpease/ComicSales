{
 "cells": [
  {
   "cell_type": "markdown",
   "metadata": {},
   "source": [
    "# Comic Book Cancellations\n",
    "\n",
    "While some Marvel comic books run for decades, most series go through cycles. For example, [Charles Soule's *She-Hulk* (2014)](https://www.cbr.com/charles-soule-investigates-she-hulks-blue-file/) was a colorful and quirky crime serial that got cancelled on its 12th issue. However, that was not the end of the titular character. A year after that series cancellation, she reappeared in [Mario Tamaki's *Hulk* (2016)](https://www.cbr.com/hulk-1-gives-marvel-an-unstable-dangerous-jennifer-walters/) which was far more introspective and focused on her pain and depression following the murder of her cousin. While these legacy characters may eventually be picked up again in another book, the tone, style, and genre of their stories often change with the new creative team.\n",
    "\n",
    "So what causes so many of my favorite stories to get cancelled seemingly ahead of their time? Some books end at the author's request because the story has reached its conclusion. When *Young Avengers* (2013) was cancelled, the author Kieron Gillen [stated](http://kierongillen.tumblr.com/post/66995678192/young-avengers-the-end-of-the-season), \"When the time came around and Marvel asked if we wanted to do more issues, Jamie and I decided we’d actually made our statement, and should leave the stage.\" However, most Marvel comics are written as serials without the intention of including a final on-going conclusion. Instead, as Marvel Executive Editor Tom Brevoort [stated](https://twitter.com/TomBrevoort/status/945861802813984768) in 2017 amidst a string of cancellations, \"We go through this cycle every year where weaker-selling titles get pruned\".\n",
    "\n",
    "So are books that get cancelled actually weaker selling? And if so, what criteria determines cancellation? Of that [string](https://www.cbr.com/marvel-cancels-generation-x-gwenpool-more/) [of](https://www.cbr.com/marvel-comics-cancels-iceman-luke-cage/) [cancellations](https://www.cbr.com/marvel-comics-cancels-she-hulk/) in early 2017, all of the series had female, queer, or colored leads. This naturally poses the question of whether the cancellations are the result of new characters introduced through Marvel's diversity initatives not selling as well as long-established legacy characters or Marvel caving to [retailers](https://www.cbr.com/marvel-sales-diversity/) who feel like \"people didn't want any more diversity\". \n",
    "\n",
    "To answer these questions, I'll use machine learning in order to develop a cancellation criteria based on comic book sales data. This first part will focus on web scrapping publically available comic book sales data and developing a SQL database to store that data in SQLite. The second part will parse through that data and implement machine learning algorithsms on that data to determine the criteria for cancellation."
   ]
  },
  {
   "cell_type": "markdown",
   "metadata": {},
   "source": [
    "## 1. Web Scrapping\n",
    "\n",
    "\n",
    "### Imports"
   ]
  },
  {
   "cell_type": "code",
   "execution_count": 178,
   "metadata": {},
   "outputs": [],
   "source": [
    "import sqlite3\n",
    "import pandas as pd\n",
    "import matplotlib.pyplot as plt\n",
    "import numpy as np\n",
    "from bs4 import BeautifulSoup\n",
    "import requests\n",
    "import re\n",
    "from scipy.optimize import curve_fit\n",
    "\n",
    "%matplotlib inline"
   ]
  },
  {
   "cell_type": "markdown",
   "metadata": {},
   "source": [
    "### Web Scrapping\n",
    "\n",
    "The majority of comic books are distributed to comic book stores through Diamond Comic Distributors. Data for monthly sales is freely available from [Comichron](http://www.comichron.com/monthlycomicssales.html) for every month since 1998. This data provides a good estimate of single issue sales through comic books stores but not for digital comic sales through [Comixology](https://www.comixology.com/) or collected edition sales. \n",
    "\n",
    "In order to scrape the data, I'll be using the Python [Beautiful Soup](https://www.crummy.com/software/BeautifulSoup) package. It will then be saved into a [SQLite](https://sqlite.org/index.html) database which can take several minutes to finish. The final database can be found [here](./sales.db)."
   ]
  },
  {
   "cell_type": "code",
   "execution_count": 282,
   "metadata": {},
   "outputs": [],
   "source": [
    "# download_comic_sales return a DataFrame contains comic sales from Comichron for the given month and year\n",
    "def download_comic_sales(month, year):\n",
    "    url = \"http://www.comichron.com/monthlycomicssales/{1}/{1}-{0:02}.html\".format(month, year)\n",
    "    page = requests.get(url)\n",
    "    soup = BeautifulSoup(page.content, 'html.parser')\n",
    "    \n",
    "    table = soup.find('table', id = \"Top300Comics\")\n",
    "    data = []\n",
    "    rows = table.find_all('tr')\n",
    "    for row in rows:\n",
    "        cols = row.find_all(['td', 'th'])\n",
    "        cols = [ele.text.strip() for ele in cols]\n",
    "        data.append([ele for ele in cols])\n",
    "    comics_table = pd.DataFrame(data[1:], columns=data[0])\n",
    "    \n",
    "    comics_table.drop(columns = \"On sale\", inplace = True, errors = 'ignore')\n",
    "    comics_table.rename(columns={comics_table.columns[0]: \"UnitRank\", comics_table.columns[1]: \"DollarRank\"}, inplace=True)\n",
    "    comics_table.drop('UnitRank', 1, inplace=True)\n",
    "    comics_table.drop('DollarRank', 1, inplace=True)\n",
    "    comics_table.rename(columns={'Comic-book Title' : 'Title', 'Est. units' : 'Units'}, inplace=True)\n",
    "    comics_table['Issue'] = comics_table['Issue'].map(lambda x: re.findall('\\d+\\.?\\d*', x)[0] if len(re.findall('\\d+\\.?\\d*', x)) >= 1 else '')\n",
    "    comics_table['Issue'] = pd.to_numeric(comics_table['Issue'], errors='coerce')\n",
    "    comics_table[\"Title\"] = comics_table[\"Title\"].replace(\"†\", \"\", regex=True)\n",
    "    comics_table[\"Price\"] = comics_table[\"Price\"].replace(\"\\$\", \"\", regex=True).astype(float)\n",
    "    comics_table['Units'] = comics_table['Units'].replace(',', '', regex=True).astype(int)\n",
    "    comics_table['Gross'] = comics_table['Units']*comics_table['Price']\n",
    "    comics_table['Date'] = pd.to_datetime('{}{:02}'.format(year, month), format='%Y%m', errors='ignore')\n",
    "    comics_table = comics_table.dropna(axis='rows')\n",
    "    return(comics_table)\n",
    "\n",
    "# Loop through every month since 1998 adding data to SQLite database\n",
    "db = sqlite3.connect('sales.db')\n",
    "for year in range(1998, 2018):\n",
    "    for month in range(1, 13):\n",
    "        df = download_comic_sales(month, year)\n",
    "        df.to_sql(\"sales\", db, if_exists=\"append\")\n",
    "for year in range(2018, 2019):\n",
    "    for month in range(1, 6):\n",
    "        df = download_comic_sales(month, year)\n",
    "        df.to_sql(\"sales\", db, if_exists=\"append\")\n",
    "db.close()"
   ]
  },
  {
   "cell_type": "markdown",
   "metadata": {},
   "source": [
    "## 2. Data Cleaning\n",
    "\n",
    "The database information is mostly consistent, but there are a few things I can clean up. \n",
    "- Only keep Marvel comics\n",
    "- Distinguish between multiple runs of the comic with separate \\#1 issues\n",
    "- Aggregate sales information for unique comics (same Title, Starting Year, Issue #)\n",
    "- Remove .1 issues which are special jumping on points separate from main continuity\n",
    "- Remove obvious marketing gimmick issues\n",
    "- Rename some titles so that they're consistent.\n",
    "\n",
    "Since 1998, many titles have restarted with new \\#1 issues. To separate multiple runs with the title, each issue is uniquely described by its title and it's run's starting year. Additionally, some popular issues may be sold multiple months in a row so titles need to be aggregated together if they have the same title, series starting year, and issue number. I've also added two more features for the series' largest issue number and whether the title is being currently being published."
   ]
  },
  {
   "cell_type": "code",
   "execution_count": 625,
   "metadata": {},
   "outputs": [],
   "source": [
    "db = sqlite3.connect('sales.db')\n",
    "\n",
    "# Load web scrapped data from SQL database for Marvel comics\n",
    "df = pd.read_sql_query('''\n",
    "SELECT Title, Issue, Price, Units, Gross, Date\n",
    "FROM sales\n",
    "WHERE Publisher = \"Marvel\" \n",
    "''', db, parse_dates=['Date'])\n",
    "db.close()\n",
    "\n",
    "# Rename titles for consistency and remove extraneous issue\n",
    "df = df[(df.Issue % 1 == 0) & (df.Issue != 0) & (df.Issue < 900)]\n",
    "df.loc[df.Title == 'Us Avengers', 'Title'] = \"U.S. Avengers\"\n",
    "df.loc[df.Title == 'US Avengers', 'Title'] = \"U.S. Avengers\"\n",
    "df.loc[df.Title == 'U.S.Avengers', 'Title'] = \"U.S. Avengers\"\n",
    "df.loc[df.Title == 'Avengers Ai', 'Title'] = \"Avengers AI\"\n",
    "df.loc[df.Title == 'All New Guardians of Galaxy', 'Title'] = \"All New Guardians of the Galaxy\"\n",
    "df.loc[df.Title == 'Marvel Universe Ult Spider-Man Web Warriors', 'Title'] = \"Marvel Universe Ultimate Spider-Man Web Warriors\"\n",
    "df.loc[df.Title == 'Kanan The Last Padawan', 'Title'] = \"Kanan\"\n",
    "df.loc[df.Title == 'Kanan Last Padawan', 'Title'] = \"Kanan\"\n",
    "df.loc[df.Title == 'Star Wars Kanan', 'Title'] = \"Kanan\"\n",
    "\n",
    "# Develop table with each series information (Title, StartYear, StartDate)\n",
    "series_df = df[df['Issue'] == 1].groupby(['Date', 'Title']).agg({'Title':'first', 'Date': 'first'})\n",
    "series_df['StartYear'] = series_df['Date'].map(lambda x: x.year)\n",
    "series_df.reset_index(drop=True, inplace=True)\n",
    "series_df.sort_values(by=['Title', 'Date'], inplace=True)\n",
    "series_df.reset_index(drop=True, inplace=True)\n",
    "series_df2 = pd.DataFrame()\n",
    "series_df2 = series_df2.append(series_df.iloc[0])\n",
    "for i in range(series_df.shape[0]-1):\n",
    "    if (series_df.Title[i+1] != series_df.Title[i]) or (series_df.Date[i+1] - series_df.Date[i] > pd.Timedelta(3, unit='M')):\n",
    "        series_df2 = series_df2.append(series_df.iloc[i+1])\n",
    "series_df = series_df2\n",
    "\n",
    "# Use series table to determine StartYear for each entry in database\n",
    "df['StartYear'] = pd.Series()\n",
    "for i in range(df.shape[0]):\n",
    "    title = df.iloc[i].Title\n",
    "    date = df.iloc[i].Date\n",
    "    s = series_df[(series_df.Title == title) & (series_df.Date <= date)].sort_values(by='Date', ascending=False)\n",
    "    if s.shape[0] > 0:\n",
    "        df.loc[df.index[i], 'StartYear'] = s.iloc[0].StartYear\n",
    "\n",
    "# Remove titles that don't have #1 issues in the data set or other missing data\n",
    "df = df.dropna(axis='rows')\n",
    "\n",
    "# Sum sales issue for each unique issue (unique Title, StartYear, Issue #)\n",
    "df = df.groupby(['Title', 'Issue', 'StartYear']).agg({'Title' : 'first', 'StartYear' : 'first', 'Issue': 'first', 'Date' : 'min', 'Price' : 'first', 'Units' : 'sum', 'Gross' : 'sum' })\n",
    "df.reset_index(drop=True, inplace=True)\n",
    "\n",
    "# Add new features for the title's maximum issue and whether it is a current title\n",
    "df2 = pd.pivot_table(df, values='Issue', index=['Title', 'StartYear'], aggfunc=np.max).rename(columns={'Issue':'MaxIssue'})\n",
    "df = pd.merge(left=df, right=df2, on=['Title', 'StartYear'], sort=False).sort_values(by='Units', ascending=False)\n",
    "max_date = df['Date'].max()\n",
    "df2 = pd.pivot_table(df, values='Date', index=['Title', 'StartYear'], aggfunc=lambda x: max(x) == max_date).rename(columns={'Date':'CurrentTitle'})\n",
    "df = pd.merge(left=df, right=df2, on=['Title', 'StartYear'], sort=False).sort_values(by='Units', ascending=False)"
   ]
  },
  {
   "cell_type": "markdown",
   "metadata": {},
   "source": [
    "We can see what our data looks like by peeking into the first few rows of the table."
   ]
  },
  {
   "cell_type": "code",
   "execution_count": 619,
   "metadata": {},
   "outputs": [
    {
     "data": {
      "text/html": [
       "<div>\n",
       "<style scoped>\n",
       "    .dataframe tbody tr th:only-of-type {\n",
       "        vertical-align: middle;\n",
       "    }\n",
       "\n",
       "    .dataframe tbody tr th {\n",
       "        vertical-align: top;\n",
       "    }\n",
       "\n",
       "    .dataframe thead th {\n",
       "        text-align: right;\n",
       "    }\n",
       "</style>\n",
       "<table border=\"1\" class=\"dataframe\">\n",
       "  <thead>\n",
       "    <tr style=\"text-align: right;\">\n",
       "      <th></th>\n",
       "      <th>Title</th>\n",
       "      <th>StartYear</th>\n",
       "      <th>Issue</th>\n",
       "      <th>Date</th>\n",
       "      <th>Price</th>\n",
       "      <th>Units</th>\n",
       "      <th>Gross</th>\n",
       "      <th>MaxIssue</th>\n",
       "      <th>CurrentTitle</th>\n",
       "    </tr>\n",
       "  </thead>\n",
       "  <tbody>\n",
       "    <tr>\n",
       "      <th>0</th>\n",
       "      <td>Star Wars</td>\n",
       "      <td>2015.0</td>\n",
       "      <td>1.0</td>\n",
       "      <td>2015-01-01</td>\n",
       "      <td>4.99</td>\n",
       "      <td>1070357</td>\n",
       "      <td>5341081.43</td>\n",
       "      <td>39.0</td>\n",
       "      <td>False</td>\n",
       "    </tr>\n",
       "    <tr>\n",
       "      <th>39</th>\n",
       "      <td>FCBD Edition Ultimate Spider-Man</td>\n",
       "      <td>2002.0</td>\n",
       "      <td>1.0</td>\n",
       "      <td>2002-04-01</td>\n",
       "      <td>0.12</td>\n",
       "      <td>631990</td>\n",
       "      <td>75838.80</td>\n",
       "      <td>1.0</td>\n",
       "      <td>False</td>\n",
       "    </tr>\n",
       "    <tr>\n",
       "      <th>40</th>\n",
       "      <td>Amazing Spider-Man</td>\n",
       "      <td>2014.0</td>\n",
       "      <td>1.0</td>\n",
       "      <td>2014-04-01</td>\n",
       "      <td>5.99</td>\n",
       "      <td>556457</td>\n",
       "      <td>3333177.43</td>\n",
       "      <td>18.0</td>\n",
       "      <td>False</td>\n",
       "    </tr>\n",
       "  </tbody>\n",
       "</table>\n",
       "</div>"
      ],
      "text/plain": [
       "                               Title  StartYear  Issue       Date  Price  \\\n",
       "0                          Star Wars     2015.0    1.0 2015-01-01   4.99   \n",
       "39  FCBD Edition Ultimate Spider-Man     2002.0    1.0 2002-04-01   0.12   \n",
       "40                Amazing Spider-Man     2014.0    1.0 2014-04-01   5.99   \n",
       "\n",
       "      Units       Gross  MaxIssue  CurrentTitle  \n",
       "0   1070357  5341081.43      39.0         False  \n",
       "39   631990    75838.80       1.0         False  \n",
       "40   556457  3333177.43      18.0         False  "
      ]
     },
     "execution_count": 619,
     "metadata": {},
     "output_type": "execute_result"
    }
   ],
   "source": [
    "df.head(3)"
   ]
  },
  {
   "cell_type": "markdown",
   "metadata": {},
   "source": [
    "### Preliminary Analysis - Cancellation Issue\n",
    "\n",
    "Now we can look at what issue is often the last issue before cancellation."
   ]
  },
  {
   "cell_type": "code",
   "execution_count": 620,
   "metadata": {},
   "outputs": [
    {
     "data": {
      "image/png": "[encoded data removed]",
      "text/plain": [
       "<Figure size 432x288 with 1 Axes>"
      ]
     },
     "metadata": {},
     "output_type": "display_data"
    }
   ],
   "source": [
    "pd.pivot_table(df, values=['Title'], index='MaxIssue', aggfunc={'Title':lambda x: len(x.unique())}).iloc[0:16].plot(kind='bar', y='Title')\n",
    "plt.ylabel('Counts')\n",
    "plt.show()"
   ]
  },
  {
   "cell_type": "markdown",
   "metadata": {},
   "source": [
    "Based on length, Marvel comics appear to fall into several categories: (1) one-shots, (2) events and mini-series that run less than 6 issues, (3) ongoing titles that are immediately cancelled around 12 issues, and (4) ongoing titles that continue past 12 issues.\n",
    "\n",
    "Our interest is in titles that were specificaly cancelled not titles that were always intended to have a short run (one-shots or mini-series) or titles that may have restarted wtih a new \\#1 or changed their title for marketing purposes. I have no way of determining how each series ended without manually going through each title and looking into them which would be a time-consuming process. For now, I'm going to overly restrict my data and only compare titles that got cancelled on their 12 issue with titles that lasted longer than 12 issues. Becuase 12 issues is a standard length at which comics get dropped, this should allow me to see what threshold is being used for cancellation.\n"
   ]
  },
  {
   "cell_type": "markdown",
   "metadata": {},
   "source": [
    "## Feature Labelling - Cancellation\n",
    "\n",
    "Titles that prematurely finished with 12 issues will be labeled as \"Cancelled\" whereas books that last longer than that will be labelled as \"Kept\". I'm then going to aggregate my data by title, keeping features for the unit sales and gross profits for the first 12 months as well as the book's maximum issue and whether it's a current title."
   ]
  },
  {
   "cell_type": "code",
   "execution_count": 628,
   "metadata": {},
   "outputs": [],
   "source": [
    "# Removed 'Avengers Vs. X-Men' because it is an event comic that lasted 12 issues and was not cancelled per se\n",
    "df.drop(df.index[df.Title == 'Avengers Vs X-Men'], inplace=True)\n",
    "\n",
    "# Select cancelled titles that start with an issue #1 and finish with their 12th issue.  Group by title and create features for units and gross sales for first 12 months.\n",
    "dfUnits = df.loc[(df.Issue == 1) & (df.MaxIssue == 12), ['Title', 'StartYear']].reset_index(drop=True)\n",
    "for i in range(1,13):\n",
    "    dfUnits = pd.merge(left=dfUnits, right=df.loc[(df.Issue == i) & (df.MaxIssue == 12), ['Title', 'StartYear', 'Units']].rename(columns={'Units': 'Units' + str(i)}), on=['Title', 'StartYear'])\n",
    "dfUnits = dfUnits.dropna(axis='rows')\n",
    "dfGross = df.loc[(df.Issue == 1) & (df.MaxIssue == 12), ['Title', 'StartYear']].groupby(['Title', 'StartYear']).first().reset_index()\n",
    "for i in range(1,13):\n",
    "    dfGross = pd.merge(left=dfGross, right=df.loc[(df.Issue == i) & (df.MaxIssue == 12), ['Title', 'StartYear', 'Gross']].rename(columns={'Gross': 'Gross' + str(i)}), on=['Title', 'StartYear'])\n",
    "dfGross = dfGross.dropna(axis='rows')\n",
    "df1 = pd.merge(left=dfUnits, right=dfGross, on=['Title', 'StartYear'])\n",
    "df2 = df[['Title', 'StartYear', 'MaxIssue', 'CurrentTitle']]\n",
    "df2 = df2.groupby(['Title', 'StartYear']).agg({'MaxIssue':'first',\n",
    "                         'CurrentTitle':'first'}).reset_index()\n",
    "dfCancelled = pd.merge(left=df1, right=df2, on=['Title', 'StartYear'])\n",
    "dfCancelled['Kept'] = 0\n",
    "\n",
    "# Select kept titles that start with an issue #1 and then continue past their 12th issue. Group by title and create features for units and gross sales for first 12 months.\n",
    "dfUnits = df.loc[(df.MaxIssue > 12) & (df.Issue == 1), ['Title', 'StartYear']].reset_index(drop=True)\n",
    "for i in range(1,13):\n",
    "    dfUnits = pd.merge(left=dfUnits, right=df.loc[(df.Issue == i) & (df.MaxIssue > 12), ['Title', 'StartYear', 'Units']].rename(columns={'Units': 'Units' + str(i)}), on=['Title', 'StartYear'])\n",
    "dfUnits = dfUnits.dropna(axis='rows')\n",
    "dfGross = df.loc[(df.MaxIssue > 12) & (df.Issue == 1 | (df.Issue == 12)), ['Title', 'StartYear']].groupby(['Title', 'StartYear']).first().reset_index()\n",
    "for i in range(1,13):\n",
    "    dfGross = pd.merge(left=dfGross, right=df.loc[(df.Issue == i) & (df.MaxIssue > 12), ['Title', 'StartYear', 'Gross']].rename(columns={'Gross': 'Gross' + str(i)}), on=['Title', 'StartYear'])\n",
    "dfGross = dfGross.dropna(axis='rows')\n",
    "df1 = pd.merge(left=dfUnits, right=dfGross, on=['Title', 'StartYear'])\n",
    "df2 = df.loc[(df['Issue'] <= 12),['Title', 'StartYear', 'MaxIssue', 'CurrentTitle']]\n",
    "df2 = df2.groupby(['Title', 'StartYear']).agg({'MaxIssue':'first',\n",
    "                         'CurrentTitle':'first'}).reset_index()\n",
    "dfKept = pd.merge(left=df1, right=df2, on=['Title', 'StartYear'])\n",
    "dfKept['Kept'] = 1\n",
    "\n",
    "# Combine both Cancelled and Kept titles\n",
    "df = pd.concat([dfCancelled, dfKept], ignore_index=True, sort=False)"
   ]
  },
  {
   "cell_type": "markdown",
   "metadata": {},
   "source": [
    "Peering into the first few rows shows that we now have sales information (units and gross) for the first 12 months of sales of new titles."
   ]
  },
  {
   "cell_type": "code",
   "execution_count": 538,
   "metadata": {},
   "outputs": [
    {
     "data": {
      "text/html": [
       "<div>\n",
       "<style scoped>\n",
       "    .dataframe tbody tr th:only-of-type {\n",
       "        vertical-align: middle;\n",
       "    }\n",
       "\n",
       "    .dataframe tbody tr th {\n",
       "        vertical-align: top;\n",
       "    }\n",
       "\n",
       "    .dataframe thead th {\n",
       "        text-align: right;\n",
       "    }\n",
       "</style>\n",
       "<table border=\"1\" class=\"dataframe\">\n",
       "  <thead>\n",
       "    <tr style=\"text-align: right;\">\n",
       "      <th></th>\n",
       "      <th>Title</th>\n",
       "      <th>Issue</th>\n",
       "      <th>Price</th>\n",
       "      <th>Units</th>\n",
       "      <th>Gross</th>\n",
       "      <th>Date</th>\n",
       "      <th>StartYear</th>\n",
       "      <th>MaxIssue</th>\n",
       "      <th>CurrentTitle</th>\n",
       "    </tr>\n",
       "  </thead>\n",
       "  <tbody>\n",
       "    <tr>\n",
       "      <th>0</th>\n",
       "      <td>Star Wars</td>\n",
       "      <td>1.0</td>\n",
       "      <td>4.99</td>\n",
       "      <td>985976</td>\n",
       "      <td>4920020.24</td>\n",
       "      <td>2015-01-01</td>\n",
       "      <td>2015.0</td>\n",
       "      <td>48.0</td>\n",
       "      <td>True</td>\n",
       "    </tr>\n",
       "    <tr>\n",
       "      <th>62</th>\n",
       "      <td>FCBD Edition Ultimate Spider-Man</td>\n",
       "      <td>1.0</td>\n",
       "      <td>0.12</td>\n",
       "      <td>631990</td>\n",
       "      <td>75838.80</td>\n",
       "      <td>2002-04-01</td>\n",
       "      <td>2002.0</td>\n",
       "      <td>1.0</td>\n",
       "      <td>False</td>\n",
       "    </tr>\n",
       "    <tr>\n",
       "      <th>63</th>\n",
       "      <td>Amazing Spider-Man</td>\n",
       "      <td>1.0</td>\n",
       "      <td>5.99</td>\n",
       "      <td>532586</td>\n",
       "      <td>3190190.14</td>\n",
       "      <td>2014-04-01</td>\n",
       "      <td>1998.0</td>\n",
       "      <td>800.0</td>\n",
       "      <td>True</td>\n",
       "    </tr>\n",
       "  </tbody>\n",
       "</table>\n",
       "</div>"
      ],
      "text/plain": [
       "                               Title  Issue  Price   Units       Gross  \\\n",
       "0                          Star Wars    1.0   4.99  985976  4920020.24   \n",
       "62  FCBD Edition Ultimate Spider-Man    1.0   0.12  631990    75838.80   \n",
       "63                Amazing Spider-Man    1.0   5.99  532586  3190190.14   \n",
       "\n",
       "         Date  StartYear  MaxIssue  CurrentTitle  \n",
       "0  2015-01-01     2015.0      48.0          True  \n",
       "62 2002-04-01     2002.0       1.0         False  \n",
       "63 2014-04-01     1998.0     800.0          True  "
      ]
     },
     "execution_count": 538,
     "metadata": {},
     "output_type": "execute_result"
    }
   ],
   "source": [
    "df.head(3)"
   ]
  },
  {
   "cell_type": "markdown",
   "metadata": {},
   "source": [
    "## 3. Feature Engineering - Exponential Fitting\n",
    "\n",
    "Monthly unit sales and gross profit uncannily follow an exponential decay over the course of the first several months. People try new titles for the first several issues to decide whether they like the book. Thenw ithin the first few months, they decide whether to drop the book orcontinue to follow it. After that point, sales tend stay relatively consistent.\n",
    "\n",
    "In addition to my monthly unit sales, I'm going to engineer some new features based on the exponential fit parameters. These features allow for the entire trend of the sales information with time to be captured in just a few variables.\n",
    "\n",
    "#### Exponential Models:\n",
    "$Units(x) = (UI-UF) exp(-(x-1)(UT)) + UF$\n",
    "\n",
    "$UI$ = Initial Sales <br />\n",
    "$UT$ = Exponential Time Decay Constant <br />\n",
    "$UF$ = Asymptotic Final Sales\n",
    "\n",
    "$Gross(x) = (GI-GF) exp(-(x-1)(GT)) + GF$\n",
    "\n",
    "$GI$ = Initial Gross Profit <br />\n",
    "$GT$ = Exponential Time Decay Constant <br />\n",
    "$GF$ = Asymptotic Final Gross Profit\n",
    "\n",
    "The exponential fit doesn't describe all the titles. For example, some of them have a linear change in sales without a first issue spike which would most likely happen if the series gets a new \\#1 without a real change in direction or creative team. However, for most titles the exponential fit describes the trend of the sales curve without the variance of the montly sales numbers. "
   ]
  },
  {
   "cell_type": "code",
   "execution_count": 640,
   "metadata": {},
   "outputs": [
    {
     "name": "stderr",
     "output_type": "stream",
     "text": [
      "C:\\Users\\Christopher\\Anaconda3\\lib\\site-packages\\scipy\\optimize\\minpack.py:794: OptimizeWarning: Covariance of the parameters could not be estimated\n",
      "  category=OptimizeWarning)\n"
     ]
    },
    {
     "name": "stdout",
     "output_type": "stream",
     "text": [
      "Trouble Fitting Units for New Avengers\n",
      "Trouble Fitting Units for Astonishing X-Men\n",
      "Trouble Fitting Units for Ultimate X-Men\n",
      "Trouble Fitting Units for Ms Marvel\n",
      "Trouble Fitting Units for X-Factor\n",
      "Trouble Fitting Units for She-Hulk 2\n",
      "Trouble fitting Gross for Inhumans\n",
      "Trouble fitting Gross for Star Wars\n",
      "Trouble fitting Gross for Astonishing X-Men\n",
      "Trouble fitting Gross for Hulk\n",
      "Trouble fitting Gross for Ultimate X-Men\n",
      "Trouble fitting Gross for Ms Marvel\n",
      "Trouble fitting Gross for X-Factor\n",
      "Trouble fitting Gross for Captain Marvel\n",
      "Trouble fitting Gross for She-Hulk 2\n"
     ]
    }
   ],
   "source": [
    "r = 10 # Number of issues starting from beginning to include in fit\n",
    "x = np.arange(r)\n",
    "def exponenial_func(x, I, T, F):\n",
    "    return (I-F)*np.exp(-x/T)+F\n",
    "\n",
    "UI_list = np.array([])\n",
    "UT_list = np.array([])\n",
    "UF_list = np.array([])\n",
    "\n",
    "for i in range(df.shape[0]):\n",
    "    y = df.iloc[i, 2:2+r].astype(float).values\n",
    "    popt, pcov = curve_fit(exponenial_func, x, y, p0=(100000, 1, 20000))\n",
    "    UI_list = np.append(UI_list, popt[0])\n",
    "    UT_list = np.append(UT_list, popt[1])\n",
    "    UF_list = np.append(UF_list, popt[2])\n",
    "    # List titles that don't fit\n",
    "    if pcov[0,0] == float('Inf'):\n",
    "        print('Trouble Fitting Units for', df.iloc[i]['Title'])\n",
    "\n",
    "GI_list = np.array([])\n",
    "GT_list = np.array([])\n",
    "GF_list = np.array([])\n",
    "\n",
    "for i in range(df.shape[0]):\n",
    "    y = df.iloc[i, 14:14+r].astype(float).values\n",
    "    popt, pcov = curve_fit(exponenial_func, x, y, p0=(60000, 0.5, 20000))\n",
    "    GI_list = np.append(GI_list, popt[0])\n",
    "    GT_list = np.append(GT_list, popt[1])\n",
    "    GF_list = np.append(GF_list, popt[2])\n",
    "    # List titles that don't fit\n",
    "    if pcov[0,0] == float('Inf'):\n",
    "        print('Trouble fitting Gross for', df.iloc[i]['Title'])        \n",
    "\n",
    "df['UI'] = UI_list\n",
    "df['UT'] = UT_list\n",
    "df['UF'] = UF_list\n",
    "df['GI'] = GI_list\n",
    "df['GT'] = GT_list\n",
    "df['GF'] = GF_list"
   ]
  },
  {
   "cell_type": "markdown",
   "metadata": {},
   "source": [
    "### Checking Fits\n",
    "\n",
    "We confirm how well the fit works by comparing it with the actual sales for a title."
   ]
  },
  {
   "cell_type": "code",
   "execution_count": 658,
   "metadata": {},
   "outputs": [
    {
     "data": {
      "image/png": "[encoded data removed]",
      "text/plain": [
       "<Figure size 432x288 with 1 Axes>"
      ]
     },
     "metadata": {},
     "output_type": "display_data"
    }
   ],
   "source": [
    "title = 'She-Hulk'\n",
    "start_year = 2014\n",
    "df2 = df[(df.Title == title) & (df.StartYear == start_year)]\n",
    "\n",
    "# Monthly Sales Values\n",
    "x = np.arange(12)\n",
    "y = df2.iloc[0,2:2+12].astype(float).values\n",
    "\n",
    "#Exponential Fit Values\n",
    "def exponenial_func(x, I, T, F):\n",
    "    return (I-F)*np.exp(-x/T)+F\n",
    "\n",
    "xx = np.linspace(0, 12, 1000)\n",
    "yy = exponenial_func(xx, df2.UI[0], df2.UT[0], df2.UF[0])\n",
    "\n",
    "# Plot\n",
    "ymin = min(y); ymax = max(y)\n",
    "plt.plot(x,y,'o', xx, yy)\n",
    "plt.title('Exponential Fit of Units: {} ({})'.format(title, start_year))\n",
    "plt.xlim([-0.2,11.2])\n",
    "plt.ylim([0.9*ymin, 1.1*ymax])\n",
    "plt.ylabel('Units Sold')\n",
    "plt.xlabel('Months')\n",
    "plt.show()"
   ]
  },
  {
   "cell_type": "markdown",
   "metadata": {},
   "source": [
    "## 4. Save Databse"
   ]
  },
  {
   "cell_type": "code",
   "execution_count": 662,
   "metadata": {},
   "outputs": [],
   "source": [
    "df = df.reset_index(drop=True)\n",
    "db = sqlite3.connect('sales.db')\n",
    "df.to_sql(\"marvel_sales\", db, if_exists=\"replace\")\n",
    "db.close()"
   ]
  },
  {
   "cell_type": "markdown",
   "metadata": {},
   "source": [
    "In this first part, we've scrapped comic book sales data, cleaned up some of irregularities in issue numbers and title names, aggregated the data into unique runs by the title's name and starting year, classified titles based on whether they were **kept** or **cancelled** after 12 months, and engineered new features based on the regression fit of the sales data to an exponential decay curve.\n",
    "\n",
    "Now, we have the data and it is ready to be processed by machine learning algorithms in order to determine the cancellation criteria which will be demonstrated in part 2."
   ]
  }
 ],
 "metadata": {
  "kernelspec": {
   "display_name": "Python 3",
   "language": "python",
   "name": "python3"
  },
  "language_info": {
   "codemirror_mode": {
    "name": "ipython",
    "version": 3
   },
   "file_extension": ".py",
   "mimetype": "text/x-python",
   "name": "python",
   "nbconvert_exporter": "python",
   "pygments_lexer": "ipython3",
   "version": "3.6.6"
  }
 },
 "nbformat": 4,
 "nbformat_minor": 2
}
